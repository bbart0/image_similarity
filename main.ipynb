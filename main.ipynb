{
  "cells": [
    {
      "cell_type": "code",
      "execution_count": null,
      "metadata": {
        "colab": {
          "base_uri": "https://localhost:8080/"
        },
        "id": "YOJX0DgDx8hB",
        "outputId": "dda5372f-243c-4420-fd96-bb5dd8601bad"
      },
      "outputs": [
        {
          "name": "stdout",
          "output_type": "stream",
          "text": [
            "Requirement already satisfied: opencv-python in /usr/local/lib/python3.11/dist-packages (4.11.0.86)\n",
            "Requirement already satisfied: numpy>=1.21.2 in /usr/local/lib/python3.11/dist-packages (from opencv-python) (2.0.2)\n"
          ]
        }
      ],
      "source": [
        "%pip install opencv-python"
      ]
    },
    {
      "cell_type": "code",
      "execution_count": null,
      "metadata": {
        "colab": {
          "base_uri": "https://localhost:8080/"
        },
        "id": "ILdOn71szEeZ",
        "outputId": "14223085-d703-4eef-c684-739ef70fac3b"
      },
      "outputs": [
        {
          "name": "stdout",
          "output_type": "stream",
          "text": [
            "Collecting lpips\n",
            "  Downloading lpips-0.1.4-py3-none-any.whl.metadata (10 kB)\n",
            "Requirement already satisfied: torch>=0.4.0 in /usr/local/lib/python3.11/dist-packages (from lpips) (2.5.1+cu124)\n",
            "Requirement already satisfied: torchvision>=0.2.1 in /usr/local/lib/python3.11/dist-packages (from lpips) (0.20.1+cu124)\n",
            "Requirement already satisfied: numpy>=1.14.3 in /usr/local/lib/python3.11/dist-packages (from lpips) (1.26.4)\n",
            "Requirement already satisfied: scipy>=1.0.1 in /usr/local/lib/python3.11/dist-packages (from lpips) (1.13.1)\n",
            "Requirement already satisfied: tqdm>=4.28.1 in /usr/local/lib/python3.11/dist-packages (from lpips) (4.67.1)\n",
            "Requirement already satisfied: filelock in /usr/local/lib/python3.11/dist-packages (from torch>=0.4.0->lpips) (3.17.0)\n",
            "Requirement already satisfied: typing-extensions>=4.8.0 in /usr/local/lib/python3.11/dist-packages (from torch>=0.4.0->lpips) (4.12.2)\n",
            "Requirement already satisfied: networkx in /usr/local/lib/python3.11/dist-packages (from torch>=0.4.0->lpips) (3.4.2)\n",
            "Requirement already satisfied: jinja2 in /usr/local/lib/python3.11/dist-packages (from torch>=0.4.0->lpips) (3.1.5)\n",
            "Requirement already satisfied: fsspec in /usr/local/lib/python3.11/dist-packages (from torch>=0.4.0->lpips) (2024.10.0)\n",
            "Collecting nvidia-cuda-nvrtc-cu12==12.4.127 (from torch>=0.4.0->lpips)\n",
            "  Downloading nvidia_cuda_nvrtc_cu12-12.4.127-py3-none-manylinux2014_x86_64.whl.metadata (1.5 kB)\n",
            "Collecting nvidia-cuda-runtime-cu12==12.4.127 (from torch>=0.4.0->lpips)\n",
            "  Downloading nvidia_cuda_runtime_cu12-12.4.127-py3-none-manylinux2014_x86_64.whl.metadata (1.5 kB)\n",
            "Collecting nvidia-cuda-cupti-cu12==12.4.127 (from torch>=0.4.0->lpips)\n",
            "  Downloading nvidia_cuda_cupti_cu12-12.4.127-py3-none-manylinux2014_x86_64.whl.metadata (1.6 kB)\n",
            "Collecting nvidia-cudnn-cu12==9.1.0.70 (from torch>=0.4.0->lpips)\n",
            "  Downloading nvidia_cudnn_cu12-9.1.0.70-py3-none-manylinux2014_x86_64.whl.metadata (1.6 kB)\n",
            "Collecting nvidia-cublas-cu12==12.4.5.8 (from torch>=0.4.0->lpips)\n",
            "  Downloading nvidia_cublas_cu12-12.4.5.8-py3-none-manylinux2014_x86_64.whl.metadata (1.5 kB)\n",
            "Collecting nvidia-cufft-cu12==11.2.1.3 (from torch>=0.4.0->lpips)\n",
            "  Downloading nvidia_cufft_cu12-11.2.1.3-py3-none-manylinux2014_x86_64.whl.metadata (1.5 kB)\n",
            "Collecting nvidia-curand-cu12==10.3.5.147 (from torch>=0.4.0->lpips)\n",
            "  Downloading nvidia_curand_cu12-10.3.5.147-py3-none-manylinux2014_x86_64.whl.metadata (1.5 kB)\n",
            "Collecting nvidia-cusolver-cu12==11.6.1.9 (from torch>=0.4.0->lpips)\n",
            "  Downloading nvidia_cusolver_cu12-11.6.1.9-py3-none-manylinux2014_x86_64.whl.metadata (1.6 kB)\n",
            "Collecting nvidia-cusparse-cu12==12.3.1.170 (from torch>=0.4.0->lpips)\n",
            "  Downloading nvidia_cusparse_cu12-12.3.1.170-py3-none-manylinux2014_x86_64.whl.metadata (1.6 kB)\n",
            "Requirement already satisfied: nvidia-nccl-cu12==2.21.5 in /usr/local/lib/python3.11/dist-packages (from torch>=0.4.0->lpips) (2.21.5)\n",
            "Requirement already satisfied: nvidia-nvtx-cu12==12.4.127 in /usr/local/lib/python3.11/dist-packages (from torch>=0.4.0->lpips) (12.4.127)\n",
            "Collecting nvidia-nvjitlink-cu12==12.4.127 (from torch>=0.4.0->lpips)\n",
            "  Downloading nvidia_nvjitlink_cu12-12.4.127-py3-none-manylinux2014_x86_64.whl.metadata (1.5 kB)\n",
            "Requirement already satisfied: triton==3.1.0 in /usr/local/lib/python3.11/dist-packages (from torch>=0.4.0->lpips) (3.1.0)\n",
            "Requirement already satisfied: sympy==1.13.1 in /usr/local/lib/python3.11/dist-packages (from torch>=0.4.0->lpips) (1.13.1)\n",
            "Requirement already satisfied: mpmath<1.4,>=1.1.0 in /usr/local/lib/python3.11/dist-packages (from sympy==1.13.1->torch>=0.4.0->lpips) (1.3.0)\n",
            "Requirement already satisfied: pillow!=8.3.*,>=5.3.0 in /usr/local/lib/python3.11/dist-packages (from torchvision>=0.2.1->lpips) (11.1.0)\n",
            "Requirement already satisfied: MarkupSafe>=2.0 in /usr/local/lib/python3.11/dist-packages (from jinja2->torch>=0.4.0->lpips) (3.0.2)\n",
            "Downloading lpips-0.1.4-py3-none-any.whl (53 kB)\n",
            "\u001b[2K   \u001b[90m━━━━━━━━━━━━━━━━━━━━━━━━━━━━━━━━━━━━━━━━\u001b[0m \u001b[32m53.8/53.8 kB\u001b[0m \u001b[31m1.7 MB/s\u001b[0m eta \u001b[36m0:00:00\u001b[0m\n",
            "\u001b[?25hDownloading nvidia_cublas_cu12-12.4.5.8-py3-none-manylinux2014_x86_64.whl (363.4 MB)\n",
            "\u001b[2K   \u001b[90m━━━━━━━━━━━━━━━━━━━━━━━━━━━━━━━━━━━━━━━━\u001b[0m \u001b[32m363.4/363.4 MB\u001b[0m \u001b[31m4.3 MB/s\u001b[0m eta \u001b[36m0:00:00\u001b[0m\n",
            "\u001b[?25hDownloading nvidia_cuda_cupti_cu12-12.4.127-py3-none-manylinux2014_x86_64.whl (13.8 MB)\n",
            "\u001b[2K   \u001b[90m━━━━━━━━━━━━━━━━━━━━━━━━━━━━━━━━━━━━━━━━\u001b[0m \u001b[32m13.8/13.8 MB\u001b[0m \u001b[31m69.0 MB/s\u001b[0m eta \u001b[36m0:00:00\u001b[0m\n",
            "\u001b[?25hDownloading nvidia_cuda_nvrtc_cu12-12.4.127-py3-none-manylinux2014_x86_64.whl (24.6 MB)\n",
            "\u001b[2K   \u001b[90m━━━━━━━━━━━━━━━━━━━━━━━━━━━━━━━━━━━━━━━━\u001b[0m \u001b[32m24.6/24.6 MB\u001b[0m \u001b[31m54.4 MB/s\u001b[0m eta \u001b[36m0:00:00\u001b[0m\n",
            "\u001b[?25hDownloading nvidia_cuda_runtime_cu12-12.4.127-py3-none-manylinux2014_x86_64.whl (883 kB)\n",
            "\u001b[2K   \u001b[90m━━━━━━━━━━━━━━━━━━━━━━━━━━━━━━━━━━━━━━━━\u001b[0m \u001b[32m883.7/883.7 kB\u001b[0m \u001b[31m32.5 MB/s\u001b[0m eta \u001b[36m0:00:00\u001b[0m\n",
            "\u001b[?25hDownloading nvidia_cudnn_cu12-9.1.0.70-py3-none-manylinux2014_x86_64.whl (664.8 MB)\n",
            "\u001b[2K   \u001b[90m━━━━━━━━━━━━━━━━━━━━━━━━━━━━━━━━━━━━━━━━\u001b[0m \u001b[32m664.8/664.8 MB\u001b[0m \u001b[31m2.2 MB/s\u001b[0m eta \u001b[36m0:00:00\u001b[0m\n",
            "\u001b[?25hDownloading nvidia_cufft_cu12-11.2.1.3-py3-none-manylinux2014_x86_64.whl (211.5 MB)\n",
            "\u001b[2K   \u001b[90m━━━━━━━━━━━━━━━━━━━━━━━━━━━━━━━━━━━━━━━━\u001b[0m \u001b[32m211.5/211.5 MB\u001b[0m \u001b[31m5.8 MB/s\u001b[0m eta \u001b[36m0:00:00\u001b[0m\n",
            "\u001b[?25hDownloading nvidia_curand_cu12-10.3.5.147-py3-none-manylinux2014_x86_64.whl (56.3 MB)\n",
            "\u001b[2K   \u001b[90m━━━━━━━━━━━━━━━━━━━━━━━━━━━━━━━━━━━━━━━━\u001b[0m \u001b[32m56.3/56.3 MB\u001b[0m \u001b[31m10.8 MB/s\u001b[0m eta \u001b[36m0:00:00\u001b[0m\n",
            "\u001b[?25hDownloading nvidia_cusolver_cu12-11.6.1.9-py3-none-manylinux2014_x86_64.whl (127.9 MB)\n",
            "\u001b[2K   \u001b[90m━━━━━━━━━━━━━━━━━━━━━━━━━━━━━━━━━━━━━━━━\u001b[0m \u001b[32m127.9/127.9 MB\u001b[0m \u001b[31m7.8 MB/s\u001b[0m eta \u001b[36m0:00:00\u001b[0m\n",
            "\u001b[?25hDownloading nvidia_cusparse_cu12-12.3.1.170-py3-none-manylinux2014_x86_64.whl (207.5 MB)\n",
            "\u001b[2K   \u001b[90m━━━━━━━━━━━━━━━━━━━━━━━━━━━━━━━━━━━━━━━━\u001b[0m \u001b[32m207.5/207.5 MB\u001b[0m \u001b[31m6.1 MB/s\u001b[0m eta \u001b[36m0:00:00\u001b[0m\n",
            "\u001b[?25hDownloading nvidia_nvjitlink_cu12-12.4.127-py3-none-manylinux2014_x86_64.whl (21.1 MB)\n",
            "\u001b[2K   \u001b[90m━━━━━━━━━━━━━━━━━━━━━━━━━━━━━━━━━━━━━━━━\u001b[0m \u001b[32m21.1/21.1 MB\u001b[0m \u001b[31m90.2 MB/s\u001b[0m eta \u001b[36m0:00:00\u001b[0m\n",
            "\u001b[?25hInstalling collected packages: nvidia-nvjitlink-cu12, nvidia-curand-cu12, nvidia-cufft-cu12, nvidia-cuda-runtime-cu12, nvidia-cuda-nvrtc-cu12, nvidia-cuda-cupti-cu12, nvidia-cublas-cu12, nvidia-cusparse-cu12, nvidia-cudnn-cu12, nvidia-cusolver-cu12, lpips\n",
            "  Attempting uninstall: nvidia-nvjitlink-cu12\n",
            "    Found existing installation: nvidia-nvjitlink-cu12 12.5.82\n",
            "    Uninstalling nvidia-nvjitlink-cu12-12.5.82:\n",
            "      Successfully uninstalled nvidia-nvjitlink-cu12-12.5.82\n",
            "  Attempting uninstall: nvidia-curand-cu12\n",
            "    Found existing installation: nvidia-curand-cu12 10.3.6.82\n",
            "    Uninstalling nvidia-curand-cu12-10.3.6.82:\n",
            "      Successfully uninstalled nvidia-curand-cu12-10.3.6.82\n",
            "  Attempting uninstall: nvidia-cufft-cu12\n",
            "    Found existing installation: nvidia-cufft-cu12 11.2.3.61\n",
            "    Uninstalling nvidia-cufft-cu12-11.2.3.61:\n",
            "      Successfully uninstalled nvidia-cufft-cu12-11.2.3.61\n",
            "  Attempting uninstall: nvidia-cuda-runtime-cu12\n",
            "    Found existing installation: nvidia-cuda-runtime-cu12 12.5.82\n",
            "    Uninstalling nvidia-cuda-runtime-cu12-12.5.82:\n",
            "      Successfully uninstalled nvidia-cuda-runtime-cu12-12.5.82\n",
            "  Attempting uninstall: nvidia-cuda-nvrtc-cu12\n",
            "    Found existing installation: nvidia-cuda-nvrtc-cu12 12.5.82\n",
            "    Uninstalling nvidia-cuda-nvrtc-cu12-12.5.82:\n",
            "      Successfully uninstalled nvidia-cuda-nvrtc-cu12-12.5.82\n",
            "  Attempting uninstall: nvidia-cuda-cupti-cu12\n",
            "    Found existing installation: nvidia-cuda-cupti-cu12 12.5.82\n",
            "    Uninstalling nvidia-cuda-cupti-cu12-12.5.82:\n",
            "      Successfully uninstalled nvidia-cuda-cupti-cu12-12.5.82\n",
            "  Attempting uninstall: nvidia-cublas-cu12\n",
            "    Found existing installation: nvidia-cublas-cu12 12.5.3.2\n",
            "    Uninstalling nvidia-cublas-cu12-12.5.3.2:\n",
            "      Successfully uninstalled nvidia-cublas-cu12-12.5.3.2\n",
            "  Attempting uninstall: nvidia-cusparse-cu12\n",
            "    Found existing installation: nvidia-cusparse-cu12 12.5.1.3\n",
            "    Uninstalling nvidia-cusparse-cu12-12.5.1.3:\n",
            "      Successfully uninstalled nvidia-cusparse-cu12-12.5.1.3\n",
            "  Attempting uninstall: nvidia-cudnn-cu12\n",
            "    Found existing installation: nvidia-cudnn-cu12 9.3.0.75\n",
            "    Uninstalling nvidia-cudnn-cu12-9.3.0.75:\n",
            "      Successfully uninstalled nvidia-cudnn-cu12-9.3.0.75\n",
            "  Attempting uninstall: nvidia-cusolver-cu12\n",
            "    Found existing installation: nvidia-cusolver-cu12 11.6.3.83\n",
            "    Uninstalling nvidia-cusolver-cu12-11.6.3.83:\n",
            "      Successfully uninstalled nvidia-cusolver-cu12-11.6.3.83\n",
            "Successfully installed lpips-0.1.4 nvidia-cublas-cu12-12.4.5.8 nvidia-cuda-cupti-cu12-12.4.127 nvidia-cuda-nvrtc-cu12-12.4.127 nvidia-cuda-runtime-cu12-12.4.127 nvidia-cudnn-cu12-9.1.0.70 nvidia-cufft-cu12-11.2.1.3 nvidia-curand-cu12-10.3.5.147 nvidia-cusolver-cu12-11.6.1.9 nvidia-cusparse-cu12-12.3.1.170 nvidia-nvjitlink-cu12-12.4.127\n"
          ]
        }
      ],
      "source": [
        "%pip install lpips"
      ]
    },
    {
      "cell_type": "code",
      "execution_count": 7,
      "metadata": {
        "colab": {
          "base_uri": "https://localhost:8080/"
        },
        "id": "6Qv4g9Uc1Ebp",
        "outputId": "ef73c77a-1922-42da-dbc0-5381d55689ce"
      },
      "outputs": [
        {
          "name": "stdout",
          "output_type": "stream",
          "text": [
            "Python 3.12.3\n"
          ]
        }
      ],
      "source": [
        "!python --version"
      ]
    },
    {
      "cell_type": "code",
      "execution_count": 8,
      "metadata": {
        "id": "349oYEkK1REA"
      },
      "outputs": [],
      "source": [
        "import cv2\n",
        "\n",
        "import torch\n",
        "import numpy as np"
      ]
    },
    {
      "cell_type": "markdown",
      "metadata": {
        "id": "ZqByUCQUI-Yi"
      },
      "source": [
        "## Metrics set-up"
      ]
    },
    {
      "cell_type": "code",
      "execution_count": 1,
      "metadata": {
        "colab": {
          "base_uri": "https://localhost:8080/"
        },
        "id": "XxX2MjVxJe10",
        "outputId": "621c23ae-57f8-42b3-b337-f73e044b1b97"
      },
      "outputs": [
        {
          "name": "stdout",
          "output_type": "stream",
          "text": [
            "Collecting SSIM-PIL\n",
            "  Downloading SSIM_PIL-1.0.14-py3-none-any.whl.metadata (1.2 kB)\n",
            "Downloading SSIM_PIL-1.0.14-py3-none-any.whl (11 kB)\n",
            "Installing collected packages: SSIM-PIL\n",
            "Successfully installed SSIM-PIL-1.0.14\n",
            "Note: you may need to restart the kernel to use updated packages.\n"
          ]
        },
        {
          "name": "stderr",
          "output_type": "stream",
          "text": [
            "\n",
            "[notice] A new release of pip is available: 24.0 -> 25.1\n",
            "[notice] To update, run: python.exe -m pip install --upgrade pip\n"
          ]
        }
      ],
      "source": [
        "%pip install SSIM-PIL"
      ]
    },
    {
      "cell_type": "code",
      "execution_count": 10,
      "metadata": {},
      "outputs": [
        {
          "name": "stdout",
          "output_type": "stream",
          "text": [
            "Collecting torchmetrics\n",
            "  Downloading torchmetrics-1.7.1-py3-none-any.whl.metadata (21 kB)\n",
            "Requirement already satisfied: numpy>1.20.0 in c:\\users\\bbart\\desktop\\sem1\\wkiro\\projekt\\vision_project\\lib\\site-packages (from torchmetrics) (2.2.4)\n",
            "Requirement already satisfied: packaging>17.1 in c:\\users\\bbart\\desktop\\sem1\\wkiro\\projekt\\vision_project\\lib\\site-packages (from torchmetrics) (24.2)\n",
            "Requirement already satisfied: torch>=2.0.0 in c:\\users\\bbart\\desktop\\sem1\\wkiro\\projekt\\vision_project\\lib\\site-packages (from torchmetrics) (2.6.0)\n",
            "Collecting lightning-utilities>=0.8.0 (from torchmetrics)\n",
            "  Downloading lightning_utilities-0.14.3-py3-none-any.whl.metadata (5.6 kB)\n",
            "Requirement already satisfied: setuptools in c:\\users\\bbart\\desktop\\sem1\\wkiro\\projekt\\vision_project\\lib\\site-packages (from lightning-utilities>=0.8.0->torchmetrics) (78.1.0)\n",
            "Requirement already satisfied: typing_extensions in c:\\users\\bbart\\desktop\\sem1\\wkiro\\projekt\\vision_project\\lib\\site-packages (from lightning-utilities>=0.8.0->torchmetrics) (4.13.2)\n",
            "Requirement already satisfied: filelock in c:\\users\\bbart\\desktop\\sem1\\wkiro\\projekt\\vision_project\\lib\\site-packages (from torch>=2.0.0->torchmetrics) (3.18.0)\n",
            "Requirement already satisfied: networkx in c:\\users\\bbart\\desktop\\sem1\\wkiro\\projekt\\vision_project\\lib\\site-packages (from torch>=2.0.0->torchmetrics) (3.4.2)\n",
            "Requirement already satisfied: jinja2 in c:\\users\\bbart\\desktop\\sem1\\wkiro\\projekt\\vision_project\\lib\\site-packages (from torch>=2.0.0->torchmetrics) (3.1.6)\n",
            "Requirement already satisfied: fsspec in c:\\users\\bbart\\desktop\\sem1\\wkiro\\projekt\\vision_project\\lib\\site-packages (from torch>=2.0.0->torchmetrics) (2025.3.2)\n",
            "Requirement already satisfied: sympy==1.13.1 in c:\\users\\bbart\\desktop\\sem1\\wkiro\\projekt\\vision_project\\lib\\site-packages (from torch>=2.0.0->torchmetrics) (1.13.1)\n",
            "Requirement already satisfied: mpmath<1.4,>=1.1.0 in c:\\users\\bbart\\desktop\\sem1\\wkiro\\projekt\\vision_project\\lib\\site-packages (from sympy==1.13.1->torch>=2.0.0->torchmetrics) (1.3.0)\n",
            "Requirement already satisfied: MarkupSafe>=2.0 in c:\\users\\bbart\\desktop\\sem1\\wkiro\\projekt\\vision_project\\lib\\site-packages (from jinja2->torch>=2.0.0->torchmetrics) (3.0.2)\n",
            "Downloading torchmetrics-1.7.1-py3-none-any.whl (961 kB)\n",
            "   ---------------------------------------- 0.0/961.5 kB ? eta -:--:--\n",
            "   ---------------------------------------- 10.2/961.5 kB ? eta -:--:--\n",
            "   -- ------------------------------------ 71.7/961.5 kB 777.7 kB/s eta 0:00:02\n",
            "   ------------ --------------------------- 307.2/961.5 kB 2.4 MB/s eta 0:00:01\n",
            "   ---------------------------------------  952.3/961.5 kB 5.5 MB/s eta 0:00:01\n",
            "   ---------------------------------------- 961.5/961.5 kB 5.1 MB/s eta 0:00:00\n",
            "Downloading lightning_utilities-0.14.3-py3-none-any.whl (28 kB)\n",
            "Installing collected packages: lightning-utilities, torchmetrics\n",
            "Successfully installed lightning-utilities-0.14.3 torchmetrics-1.7.1\n",
            "Note: you may need to restart the kernel to use updated packages.\n"
          ]
        },
        {
          "name": "stderr",
          "output_type": "stream",
          "text": [
            "\n",
            "[notice] A new release of pip is available: 24.0 -> 25.1\n",
            "[notice] To update, run: python.exe -m pip install --upgrade pip\n"
          ]
        }
      ],
      "source": [
        "%pip install torchmetrics"
      ]
    },
    {
      "cell_type": "code",
      "execution_count": 13,
      "metadata": {},
      "outputs": [
        {
          "name": "stdout",
          "output_type": "stream",
          "text": [
            "Collecting sewar\n",
            "  Downloading sewar-0.4.6.tar.gz (11 kB)\n",
            "  Installing build dependencies: started\n",
            "  Installing build dependencies: finished with status 'done'\n",
            "  Getting requirements to build wheel: started\n",
            "  Getting requirements to build wheel: finished with status 'done'\n",
            "  Preparing metadata (pyproject.toml): started\n",
            "  Preparing metadata (pyproject.toml): finished with status 'done'\n",
            "Requirement already satisfied: numpy in c:\\users\\bbart\\desktop\\sem1\\wkiro\\projekt\\vision_project\\lib\\site-packages (from sewar) (2.2.4)\n",
            "Requirement already satisfied: scipy in c:\\users\\bbart\\desktop\\sem1\\wkiro\\projekt\\vision_project\\lib\\site-packages (from sewar) (1.15.2)\n",
            "Requirement already satisfied: Pillow in c:\\users\\bbart\\desktop\\sem1\\wkiro\\projekt\\vision_project\\lib\\site-packages (from sewar) (11.2.1)\n",
            "Building wheels for collected packages: sewar\n",
            "  Building wheel for sewar (pyproject.toml): started\n",
            "  Building wheel for sewar (pyproject.toml): finished with status 'done'\n",
            "  Created wheel for sewar: filename=sewar-0.4.6-py3-none-any.whl size=11538 sha256=f5de24bb746708e3ce5d82a4a59db453951e750ff464c502f9bf0edfdfa6d9d4\n",
            "  Stored in directory: c:\\users\\bbart\\appdata\\local\\pip\\cache\\wheels\\fb\\4e\\29\\b15a3d425c5f0fe8f461cbfdaf4fa98ef203fed97ce1df6695\n",
            "Successfully built sewar\n",
            "Installing collected packages: sewar\n",
            "Successfully installed sewar-0.4.6\n",
            "Note: you may need to restart the kernel to use updated packages.\n"
          ]
        },
        {
          "name": "stderr",
          "output_type": "stream",
          "text": [
            "\n",
            "[notice] A new release of pip is available: 24.0 -> 25.1\n",
            "[notice] To update, run: python.exe -m pip install --upgrade pip\n"
          ]
        }
      ],
      "source": [
        "%pip install sewar"
      ]
    },
    {
      "cell_type": "code",
      "execution_count": 4,
      "metadata": {
        "id": "g0kT9u9eIU7D"
      },
      "outputs": [],
      "source": [
        "from scipy import signal\n",
        "\n",
        "# code from https://github.com/BiswarupDebnath/SSIM-Map-calculation-of-an-image-in-Python/blob/master/ssim_map.py\n",
        "def cal_ssim(img1, img2):\n",
        "\n",
        "    K = [0.01, 0.03]\n",
        "    L = 255\n",
        "    kernelX = cv2.getGaussianKernel(11, 1.5)\n",
        "    window = kernelX * kernelX.T\n",
        "\n",
        "    M,N = np.shape(img1)\n",
        "\n",
        "    C1 = (K[0]*L)**2\n",
        "    C2 = (K[1]*L)**2\n",
        "    img1 = np.float64(img1)\n",
        "    img2 = np.float64(img2)\n",
        "\n",
        "    mu1 = signal.convolve2d(img1, window, 'valid')\n",
        "    mu2 = signal.convolve2d(img2, window, 'valid')\n",
        "\n",
        "    mu1_sq = mu1*mu1\n",
        "    mu2_sq = mu2*mu2\n",
        "    mu1_mu2 = mu1*mu2\n",
        "\n",
        "\n",
        "    sigma1_sq = signal.convolve2d(img1*img1, window, 'valid') - mu1_sq\n",
        "    sigma2_sq = signal.convolve2d(img2*img2, window, 'valid') - mu2_sq\n",
        "    sigma12 = signal.convolve2d(img1*img2, window, 'valid') - mu1_mu2\n",
        "\n",
        "    ssim_map = ((2*mu1_mu2 + C1)*(2*sigma12 + C2))/((mu1_sq + mu2_sq + C1)*(sigma1_sq + sigma2_sq + C2))\n",
        "    mssim = np.mean(ssim_map)\n",
        "    return mssim,ssim_map"
      ]
    },
    {
      "cell_type": "markdown",
      "metadata": {
        "id": "lAd85uFxLibG"
      },
      "source": [
        "### Image loading as required by different libraries"
      ]
    },
    {
      "cell_type": "code",
      "execution_count": 5,
      "metadata": {
        "id": "vwhu5-62K1sm"
      },
      "outputs": [],
      "source": [
        "from PIL import Image\n",
        "\n",
        "def load_openCV_format(image_path):\n",
        "    img = cv2.imread(image_path)\n",
        "    if img is None:\n",
        "        raise ValueError(\"Image could not be loaded.\")\n",
        "    # img = cv2.resize(img, size) # images must be of the same size to be compared for eg ssim\n",
        "    return img\n",
        "\n",
        "\n",
        "def load_pil_object_img(image_path):\n",
        "    return Image.open(image_path)\n"
      ]
    },
    {
      "cell_type": "code",
      "execution_count": 29,
      "metadata": {
        "id": "DbZX7AzXKoSQ"
      },
      "outputs": [],
      "source": [
        "from skimage.metrics import structural_similarity as ssim_sklearn\n",
        "import lpips\n",
        "from SSIM_PIL import compare_ssim\n",
        "from torchmetrics.image import UniversalImageQualityIndex\n",
        "from torchmetrics.image import VisualInformationFidelity\n",
        "from sewar import uqi, vifp, ssim\n",
        "\n",
        "\n",
        "\n",
        "def get_scores(reference_img_path, distorted_img_path):\n",
        "    ref_img = load_openCV_format(reference_img_path)\n",
        "    distorted_img = load_openCV_format(distorted_img_path)\n",
        "\n",
        "    # ssim_github_code_score = cal_ssim(cv2.cvtColor(ref_img, cv2.COLOR_BGR2RGB), cv2.cvtColor(distorted_img, cv2.COLOR_BGR2RGB))\n",
        "\n",
        "    # ref_gray = cv2.cvtColor(ref_img, cv2.COLOR_BGR2GRAY) \n",
        "    # distorted_gray = cv2.cvtColor(distorted_img, cv2.COLOR_BGR2GRAY)\n",
        "\n",
        "    ssim_sklearn_score, _ = ssim_sklearn(ref_img, distorted_img, full=True, channel_axis=2)\n",
        "    psnr_score = cv2.PSNR(ref_img, distorted_img) \n",
        "\n",
        "    \n",
        "    normalized_ref_img = (ref_img.astype(np.float32) / 127.5) - 1.0 \n",
        "    normalized_distorted_img = (distorted_img.astype(np.float32) / 127.5) - 1.0\n",
        "\n",
        "    tensor_ref_img = torch.from_numpy(normalized_ref_img).permute(2, 0, 1)\n",
        "    tensor_distorted_img = torch.from_numpy(normalized_distorted_img).permute(2, 0, 1)\n",
        "\n",
        "    loss_fn_alex = lpips.LPIPS(net='alex')\n",
        "    lpips_score = loss_fn_alex(tensor_ref_img, tensor_distorted_img).item()\n",
        "\n",
        "    uiqi_torch = UniversalImageQualityIndex()\n",
        "    uiqi_torch_score = uiqi_torch(tensor_ref_img.expand(1,-1,-1,-1), tensor_distorted_img.expand(1,-1,-1,-1))\n",
        "\n",
        "    vif_torch = VisualInformationFidelity()\n",
        "    vif_torch_score = vif_torch(tensor_ref_img.expand(1,-1,-1,-1), tensor_distorted_img.expand(1,-1,-1,-1))\n",
        "\n",
        "\n",
        "    # sewar lib \n",
        "    pil_ref_img = load_pil_object_img(reference_img_path)\n",
        "    pil_distorted_img = load_pil_object_img(distorted_img_path)\n",
        "\n",
        "    ref_yc = np.array(pil_ref_img.convert('YCbCr'))\n",
        "    distorted_yc = np.array(pil_distorted_img.convert('YCbCr'))\n",
        "\n",
        "    uiqi_sewar_score = uqi(ref_yc, distorted_yc)\n",
        "    ssim_sewar_score = ssim(ref_yc, distorted_yc)\n",
        "    vifp_sewar_score = vifp(ref_yc, distorted_yc)\n",
        "\n",
        "    ssim_pil = compare_ssim(pil_ref_img, pil_distorted_img)\n",
        "\n",
        "    \n",
        "\n",
        "    return ssim_sklearn_score,ssim_sewar_score, ssim_pil, psnr_score, lpips_score, uiqi_torch_score, vif_torch_score, uiqi_sewar_score, vifp_sewar_score\n",
        "\n",
        "\n",
        "    \n"
      ]
    },
    {
      "cell_type": "code",
      "execution_count": 30,
      "metadata": {},
      "outputs": [
        {
          "name": "stdout",
          "output_type": "stream",
          "text": [
            "Setting up [LPIPS] perceptual loss: trunk [alex], v[0.1], spatial [off]\n",
            "Loading model from: c:\\Users\\bbart\\Desktop\\sem1\\wkiro\\projekt\\vision_project\\Lib\\site-packages\\lpips\\weights\\v0.1\\alex.pth\n",
            "No module named 'pyopencl'\n",
            "(np.float64(0.12952294418603907), (np.float64(0.646707449310005), np.float64(0.6477909385615072)), 0.13061268263511863, 15.3074458157371, 0.42474564909935, tensor(0.0056), tensor(0.0295), np.float64(0.9777349890404293), np.float64(0.05249949081500604))\n"
          ]
        }
      ],
      "source": [
        "img1 = 'image_1st_in_sequence.jpg'\n",
        "img2 = 'image_2nd_in_sequence.jpg'\n",
        "\n",
        "print(get_scores(img1, img2))"
      ]
    },
    {
      "cell_type": "code",
      "execution_count": 31,
      "metadata": {},
      "outputs": [
        {
          "name": "stdout",
          "output_type": "stream",
          "text": [
            "Setting up [LPIPS] perceptual loss: trunk [alex], v[0.1], spatial [off]\n",
            "Loading model from: c:\\Users\\bbart\\Desktop\\sem1\\wkiro\\projekt\\vision_project\\Lib\\site-packages\\lpips\\weights\\v0.1\\alex.pth\n",
            "No module named 'pyopencl'\n",
            "(np.float64(0.4797737921638043), (np.float64(0.5783792663257281), np.float64(0.5783988903602362)), 0.48215850234232466, 24.537813091189044, 0.1791013926267624, tensor(0.3315), tensor(0.3957), np.float64(0.996701988793217), np.float64(0.2935736476354423))\n"
          ]
        }
      ],
      "source": [
        "img1 = 'I02.BMP'\n",
        "img2 = 'i02_02_4.bmp'\n",
        "\n",
        "print(get_scores(img1, img2))"
      ]
    }
  ],
  "metadata": {
    "colab": {
      "provenance": []
    },
    "kernelspec": {
      "display_name": "vision_project",
      "language": "python",
      "name": "python3"
    },
    "language_info": {
      "codemirror_mode": {
        "name": "ipython",
        "version": 3
      },
      "file_extension": ".py",
      "mimetype": "text/x-python",
      "name": "python",
      "nbconvert_exporter": "python",
      "pygments_lexer": "ipython3",
      "version": "3.12.3"
    }
  },
  "nbformat": 4,
  "nbformat_minor": 0
}
